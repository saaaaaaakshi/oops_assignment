{
 "cells": [
  {
   "cell_type": "code",
   "execution_count": 90,
   "id": "b01f7118-c2be-46c7-a872-ecd1ec52bab0",
   "metadata": {},
   "outputs": [],
   "source": [
    "#ans 1\n",
    "\"\"\"\n",
    "A class is defined as a blueprint of an object which describes the behaviour / state of an object.\n",
    "A class consists of member function and the variables.\n",
    "\n",
    "An object is an instance of a class.\n",
    "\n",
    "\"\"\"\n",
    "class pwskills:\n",
    "    def welcome_msg(self):\n",
    "        print(\"welcome to pwskills\")\n"
   ]
  },
  {
   "cell_type": "code",
   "execution_count": 91,
   "id": "cfd6ee99-0f47-4394-98cf-d0bb002e056e",
   "metadata": {},
   "outputs": [],
   "source": [
    "sakshi=pwskills()"
   ]
  },
  {
   "cell_type": "code",
   "execution_count": 92,
   "id": "7c85d949-b4f3-4181-8633-850b21ea6feb",
   "metadata": {},
   "outputs": [
    {
     "name": "stdout",
     "output_type": "stream",
     "text": [
      "welcome to pwskills\n"
     ]
    }
   ],
   "source": [
    "sakshi.welcome_msg()"
   ]
  },
  {
   "cell_type": "code",
   "execution_count": 93,
   "id": "8505e7af-543e-4886-a616-6b23d2259e92",
   "metadata": {},
   "outputs": [
    {
     "data": {
      "text/plain": [
       "'\\n1. Encapsulation\\n2 Abstraction\\n3 Inheritance\\n4 Polymorphism\\n\\n'"
      ]
     },
     "execution_count": 93,
     "metadata": {},
     "output_type": "execute_result"
    }
   ],
   "source": [
    "#ans 2\n",
    "\"\"\"\n",
    "1. Encapsulation\n",
    "2 Abstraction\n",
    "3 Inheritance\n",
    "4 Polymorphism\n",
    "\n",
    "\"\"\""
   ]
  },
  {
   "cell_type": "code",
   "execution_count": 94,
   "id": "3e90e3b3-051b-4677-a7f5-c8e82c5c6cfe",
   "metadata": {},
   "outputs": [
    {
     "data": {
      "text/plain": [
       "'\\n__init__ is a special python method that runs whenever a new object is created. \\nThese types of functions are used to initialize the attributes of that class,\\nE.g., if the class is Person, then the attributes will be name, age, etc.\\n\\n'"
      ]
     },
     "execution_count": 94,
     "metadata": {},
     "output_type": "execute_result"
    }
   ],
   "source": [
    "#ans 3\n",
    "\"\"\"\n",
    "__init__ is a special python method that runs whenever a new object is created. \n",
    "These types of functions are used to initialize the attributes of that class,\n",
    "E.g., if the class is Person, then the attributes will be name, age, etc.\n",
    "\n",
    "\"\"\""
   ]
  },
  {
   "cell_type": "code",
   "execution_count": 95,
   "id": "ef6a7a43-de31-4a39-9738-820f7b7366d0",
   "metadata": {},
   "outputs": [
    {
     "data": {
      "text/plain": [
       "' \\nself keyword is used to represent object or instance of the class\\nSuppose there are 2 objects of student class if there is no self keyword used\\nthen it will not be able to keep the information of both of these objects\\nand we have to make equal no. of classes as there are number of objects\\n'"
      ]
     },
     "execution_count": 95,
     "metadata": {},
     "output_type": "execute_result"
    }
   ],
   "source": [
    "#ans 4\n",
    "\"\"\" \n",
    "self keyword is used to represent object or instance of the class\n",
    "Suppose there are 2 objects of student class if there is no self keyword used\n",
    "then it will not be able to keep the information of both of these objects\n",
    "and we have to make equal no. of classes as there are number of objects\n",
    "\"\"\""
   ]
  },
  {
   "cell_type": "code",
   "execution_count": 96,
   "id": "d61fb8f0-bbb6-4d36-8c00-deb26960d1be",
   "metadata": {},
   "outputs": [
    {
     "data": {
      "text/plain": [
       "'\\n************Types of Inheritance************\\n1. Single Level Inheritance \\n2. Multilevel Inheritance\\n3. Multiple Inheritance \\n\\n'"
      ]
     },
     "execution_count": 96,
     "metadata": {},
     "output_type": "execute_result"
    }
   ],
   "source": [
    "#ans 5\n",
    "\"\"\"\n",
    "\n",
    " Inheritance is a mechanism in which one class acquires the property of another class. \n",
    " For example, a child inherits the traits of his/her parents. \n",
    " With inheritance, we can reuse the fields and methods of the existing class.\n",
    " \n",
    "\"\"\"\n",
    "\n",
    "\n",
    "\"\"\"\n",
    "************Types of Inheritance************\n",
    "1. Single Level Inheritance \n",
    "2. Multilevel Inheritance\n",
    "3. Multiple Inheritance \n",
    "\n",
    "\"\"\"\n"
   ]
  },
  {
   "cell_type": "code",
   "execution_count": 97,
   "id": "e1cdd221-63d0-461d-a0b1-8e6c42f12f24",
   "metadata": {},
   "outputs": [],
   "source": [
    "# example of single inheritance\n",
    "class Parent:\n",
    "    def fun1(self):\n",
    "        print(\"hey world, i am a parent\")"
   ]
  },
  {
   "cell_type": "code",
   "execution_count": 98,
   "id": "a3b3d01c-75a7-4075-ba02-d66e515575ab",
   "metadata": {},
   "outputs": [],
   "source": [
    "class child(Parent):\n",
    "    def fun2(self):\n",
    "         print(\"hey world, i am a child\")\n",
    "        "
   ]
  },
  {
   "cell_type": "code",
   "execution_count": 99,
   "id": "0b1a6576-ec92-4309-84dc-31c91de7366c",
   "metadata": {},
   "outputs": [],
   "source": [
    "c1=child()"
   ]
  },
  {
   "cell_type": "code",
   "execution_count": 100,
   "id": "3d548341-1d9b-4417-bf0a-298177d42328",
   "metadata": {},
   "outputs": [
    {
     "name": "stdout",
     "output_type": "stream",
     "text": [
      "hey world, i am a parent\n"
     ]
    }
   ],
   "source": [
    "c1.fun1()"
   ]
  },
  {
   "cell_type": "code",
   "execution_count": 101,
   "id": "9e265b37-95a0-4cdd-aa06-b9bfd2bb8a88",
   "metadata": {},
   "outputs": [
    {
     "name": "stdout",
     "output_type": "stream",
     "text": [
      "hey world, i am a child\n"
     ]
    }
   ],
   "source": [
    "c1.fun2()"
   ]
  },
  {
   "cell_type": "code",
   "execution_count": 102,
   "id": "bb19db73-0655-413d-bbd7-6d6ec1316f4b",
   "metadata": {},
   "outputs": [],
   "source": [
    "# multilevel example\n",
    "class GrandParent:\n",
    "    def fun3(self):\n",
    "        print(\"hey world, i am a grandparent\")"
   ]
  },
  {
   "cell_type": "code",
   "execution_count": 103,
   "id": "c4b56389-6f11-4d83-9237-226954caca42",
   "metadata": {},
   "outputs": [],
   "source": [
    "class Parent(GrandParent):\n",
    "    def fun4(self):\n",
    "        print(\"hey world, i am a parent\")"
   ]
  },
  {
   "cell_type": "code",
   "execution_count": 104,
   "id": "2d04155a-dc69-42a6-b578-e2263b9a08d1",
   "metadata": {},
   "outputs": [],
   "source": [
    "class child(Parent):\n",
    "    def fun5(self):\n",
    "         print(\"hey world, i am a child\")\n",
    "        "
   ]
  },
  {
   "cell_type": "code",
   "execution_count": 105,
   "id": "a6922d07-85b9-4f04-b138-5880d5362808",
   "metadata": {},
   "outputs": [],
   "source": [
    "o1=child()"
   ]
  },
  {
   "cell_type": "code",
   "execution_count": 106,
   "id": "fc5d39e6-c037-4c46-8aca-04f483f8e7bd",
   "metadata": {},
   "outputs": [
    {
     "name": "stdout",
     "output_type": "stream",
     "text": [
      "hey world, i am a grandparent\n"
     ]
    }
   ],
   "source": [
    "o1.fun3()"
   ]
  },
  {
   "cell_type": "code",
   "execution_count": 107,
   "id": "2a7dc936-b734-487a-b3a0-9025d18ea194",
   "metadata": {},
   "outputs": [
    {
     "name": "stdout",
     "output_type": "stream",
     "text": [
      "hey world, i am a parent\n"
     ]
    }
   ],
   "source": [
    "o1.fun4()"
   ]
  },
  {
   "cell_type": "code",
   "execution_count": 108,
   "id": "0db64856-739b-4ccc-a496-b569b0b91918",
   "metadata": {},
   "outputs": [
    {
     "name": "stdout",
     "output_type": "stream",
     "text": [
      "hey world, i am a child\n"
     ]
    }
   ],
   "source": [
    "o1.fun5()"
   ]
  },
  {
   "cell_type": "code",
   "execution_count": 109,
   "id": "e7928831-e1d5-4088-a46f-c3dddbe34fb8",
   "metadata": {},
   "outputs": [],
   "source": [
    "#multiple inheritance"
   ]
  },
  {
   "cell_type": "code",
   "execution_count": 110,
   "id": "2ba2c435-f03c-4fc5-a0e6-f5e00b729a70",
   "metadata": {},
   "outputs": [],
   "source": [
    "class papa:\n",
    "    def papac1(self):\n",
    "        return \"this is my papa class\""
   ]
  },
  {
   "cell_type": "code",
   "execution_count": 111,
   "id": "88894814-df9b-4c4f-ab88-2cf6ea9eb7df",
   "metadata": {},
   "outputs": [],
   "source": [
    "class mummy:\n",
    "    def mummyc1(self):\n",
    "        return \"this is my mummy class\""
   ]
  },
  {
   "cell_type": "code",
   "execution_count": 112,
   "id": "5fdf27dd-fbe4-4510-aca8-512fd78e2b44",
   "metadata": {},
   "outputs": [],
   "source": [
    "class child(papa,mummy):\n",
    "    pass"
   ]
  },
  {
   "cell_type": "code",
   "execution_count": 113,
   "id": "00f70ede-c67b-45ed-954d-4d80bd483eaa",
   "metadata": {},
   "outputs": [],
   "source": [
    "ob1=child()"
   ]
  },
  {
   "cell_type": "code",
   "execution_count": 114,
   "id": "7fc20f1f-4804-475f-8915-147a0f5c1e89",
   "metadata": {},
   "outputs": [
    {
     "data": {
      "text/plain": [
       "'this is my papa class'"
      ]
     },
     "execution_count": 114,
     "metadata": {},
     "output_type": "execute_result"
    }
   ],
   "source": [
    "ob1.papac1()"
   ]
  },
  {
   "cell_type": "code",
   "execution_count": 115,
   "id": "541fac9b-4c8f-4afc-9e1d-91166fe5097c",
   "metadata": {},
   "outputs": [
    {
     "data": {
      "text/plain": [
       "'this is my mummy class'"
      ]
     },
     "execution_count": 115,
     "metadata": {},
     "output_type": "execute_result"
    }
   ],
   "source": [
    "ob1.mummyc1()"
   ]
  }
 ],
 "metadata": {
  "kernelspec": {
   "display_name": "Python 3 (ipykernel)",
   "language": "python",
   "name": "python3"
  },
  "language_info": {
   "codemirror_mode": {
    "name": "ipython",
    "version": 3
   },
   "file_extension": ".py",
   "mimetype": "text/x-python",
   "name": "python",
   "nbconvert_exporter": "python",
   "pygments_lexer": "ipython3",
   "version": "3.10.8"
  }
 },
 "nbformat": 4,
 "nbformat_minor": 5
}
